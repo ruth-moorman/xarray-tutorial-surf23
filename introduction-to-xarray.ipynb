{
 "cells": [
  {
   "cell_type": "markdown",
   "metadata": {},
   "source": [
    "# Introduction to xarray \n",
    "\n",
    "#### presented by Ruth Moorman, Thursday 13th July 2023 (SURF student tutorial) \n",
    "#### using ESE101 \"Earth's Atmosphere\" (2020) recitation by Dave Bonan, Jordan Benjamin, and Tapio Schneider\n",
    "\n",
    "This tutorial uses output from a state-of-the-art climate model ([CESM2](http://www.cesm.ucar.edu/models/cesm2/)).\n",
    "\n",
    "In addition to what we cover here I would also recommend this [\"xarray in 45 min\" tutorial](https://tutorial.xarray.dev/overview/xarray-in-45-min.html), which covers a lot of the basics and which I take material from here, I just wanted to use more visibly Earth-like data for this demonstration. This is all really just to get you started, xarray is **very** well documented and there's load of great resources on their pages so I recommend using them! I would, in particular, recommend these sections on [working with timeseries data](https://docs.xarray.dev/en/stable/user-guide/time-series.html) and [working with weather and climate data](https://docs.xarray.dev/en/stable/user-guide/weather-climate.html), they bring together useful tools nicely. There are also some really useful xarray sections in [Ryan Abernathey's course notes](https://earth-env-data-science.github.io/intro.html)."
   ]
  },
  {
   "cell_type": "code",
   "execution_count": null,
   "metadata": {},
   "outputs": [],
   "source": [
    "## PLOTTING PACKAGES\n",
    "import matplotlib as mpl        # Python's default plotting package https://matplotlib.org/\n",
    "import matplotlib.pyplot as plt \n",
    "from matplotlib import rc, rcParams\n",
    "# rc('font', family = 'serif')\n",
    "# rcParams[\"text.usetex\"]=True\n",
    "rc('xtick', labelsize=20) \n",
    "rc('ytick', labelsize=20) \n",
    "rc('axes', labelsize=20)\n",
    "import cartopy.crs as ccrs      # Mapping  package https://scitools.org.uk/cartopy/docs/latest/\n",
    "\n",
    "## ANALYSIS PACKAGES\n",
    "import numpy as np              # Python's numerical and array calculations package https://numpy.org/\n",
    "import xarray as xr             # Python package for labeled datasets and arrays"
   ]
  },
  {
   "cell_type": "markdown",
   "metadata": {},
   "source": [
    "In this notebook the key functions we'll cover are:\n",
    "\n",
    "• `.sel()`\n",
    "\n",
    "• `.interp()`\n",
    "\n",
    "• `.groupby()`\n",
    "\n",
    "• `.weighted()`\n",
    "\n",
    "\n",
    "• `.where()`\n",
    "\n",
    "There's a lot more! But these are super handy."
   ]
  },
  {
   "cell_type": "markdown",
   "metadata": {},
   "source": [
    "## Loading a \"Dataset\" (and the \"DataArrays\", \"Coordinates\", \"Dimensions\", and \"Attributes\" within it ...)\n",
    "\n",
    "Below, for reference, is a example of what sorts of information can be included in an xarray Dataset as extracted from a [netCDF](https://www.unidata.ucar.edu/software/netcdf/) file type. \n",
    "\n",
    "\n",
    "<p align=\"center\">\n",
    "  <img width=\"900\" height=\"300\" src=\"https://docs.xarray.dev/en/stable/_images/dataset-diagram.png\">\n",
    "</p>\n",
    "\n",
    "Let's explore this file structure in our example netCDF file. \n",
    "\n"
   ]
  },
  {
   "cell_type": "code",
   "execution_count": null,
   "metadata": {},
   "outputs": [],
   "source": [
    "ds = xr.open_dataset('CESM2_example_data.nc') # load the dataset from a netCDF file\n",
    "ds                                               # examine the dataset"
   ]
  },
  {
   "cell_type": "markdown",
   "metadata": {},
   "source": [
    "There's a lot of extra information in here, not just the arrays of raw data, that's kind of the whole point! \n",
    "\n",
    "Make sure to click on the icons to the right of each Dataset component, they will display either metadata about that component (square icon) or the data itself (cylindrical icon) if the data is in memory (sometimes xarray does \"lazy loading\" stuff with where only metadata, not array contents, are kept in memory...but I'm not going into that today!)."
   ]
  },
  {
   "cell_type": "markdown",
   "metadata": {},
   "source": [
    "If we want to extract or point to a particular component of this Dataset, we use the convention `ds.{thing you want in ds}` or `ds[\"thing you want in ds\"]`, for example, to extract just the `tas` variable (a DataArray structure) we can write:"
   ]
  },
  {
   "cell_type": "code",
   "execution_count": null,
   "metadata": {},
   "outputs": [],
   "source": [
    "ds[\"tas\"]"
   ]
  },
  {
   "cell_type": "markdown",
   "metadata": {},
   "source": [
    "Note that this doesn't actually show us the values within the array here (part of the lazy loading), so if you want to see what the array within this DataArray structure looks like in a more traditional visualization you can execute `ds[\"tas\"].values()`."
   ]
  },
  {
   "cell_type": "code",
   "execution_count": null,
   "metadata": {},
   "outputs": [],
   "source": [
    "ds[\"tas\"].values"
   ]
  },
  {
   "cell_type": "markdown",
   "metadata": {},
   "source": [
    "If you were then to re-run the previous cell you would see a preview of the data within the `tas` array since it's now loaded in memory."
   ]
  },
  {
   "cell_type": "markdown",
   "metadata": {},
   "source": [
    "## Data indexing and subseting\n",
    "\n",
    "**The \\#1 perk of xarray is that we get to use readable dimension information (e.g. latitude, longitude, pressure, time values) to index and analyse our data.**\n",
    "\n",
    "Bascially, we don't need to use classical numerical indexing when working with xarray. Instead of, for example, figuring out that the equator is associated with the 20th index along the 0th axis, we can just ask for data at `lat=0`.\n",
    "\n",
    "You can find a lot more detail on ways to index [here](https://docs.xarray.dev/en/stable/user-guide/indexing.html), but here's a couple of examples using the `.sel()` terminology (with a cheeky preview of `.interp()`). \n",
    "\n"
   ]
  },
  {
   "cell_type": "markdown",
   "metadata": {},
   "source": [
    "Say that we wanted to pull out surface air temperature (`tas`, here) from the equator, i.e. we want data where `lat` is equal to 0.\n",
    "\n",
    "Now, if we look at the latitude coordinate of our data (e.g. run `ds[\"lat\"]`) we should notice that there is no `lat` value precisely equal to 0. So If we try to pull out a value with that latitude we will run into an error, execute `ds.tas.sel(lat=0)` if you're curious.\n"
   ]
  },
  {
   "cell_type": "markdown",
   "metadata": {},
   "source": [
    "Instead we would need to include a `method` for inexact matches, these are the options:\n",
    "\n",
    "• `None (default)`: only exact matches\n",
    "\n",
    "• `pad / ffill`: propagate last valid index value forward\n",
    "\n",
    "• `backfill / bfill`: propagate next valid index value backward\n",
    "\n",
    "• `nearest`: use nearest valid index value"
   ]
  },
  {
   "cell_type": "code",
   "execution_count": null,
   "metadata": {},
   "outputs": [],
   "source": [
    "ds.tas.sel(lat=0,method='ffill') # gives us the latitude prior to zero (-0.4712)"
   ]
  },
  {
   "cell_type": "code",
   "execution_count": null,
   "metadata": {},
   "outputs": [],
   "source": [
    "ds.tas.sel(lat=0,method='bfill') # gives us the latitude after zero (0.4712)"
   ]
  },
  {
   "cell_type": "markdown",
   "metadata": {},
   "source": [
    "Or we could start getting fancy and interpolate our data to the equator using the [`.interp()` function](https://docs.xarray.dev/en/stable/user-guide/interpolation.html)."
   ]
  },
  {
   "cell_type": "code",
   "execution_count": null,
   "metadata": {},
   "outputs": [],
   "source": [
    "ds.tas.interp(lat=0, method='linear')"
   ]
  },
  {
   "cell_type": "markdown",
   "metadata": {},
   "source": [
    "Another very common action would be to index according to a range, e.g. we may only want Southern Hemisphere data (sensibly, as it is the hemisphere with Australia in it)."
   ]
  },
  {
   "cell_type": "code",
   "execution_count": null,
   "metadata": {},
   "outputs": [],
   "source": [
    "ds.tas.sel(lat=slice(None,0)) # gives data with latitude values between the lower limit (None, could equivalently say -90) and the equator (0)"
   ]
  },
  {
   "cell_type": "markdown",
   "metadata": {},
   "source": [
    "## Mapping a monthly mean field (where `lat` and `lon` are 1D Dimensions)\n",
    "\n",
    "Plotting a map of the January temperature field as an example."
   ]
  },
  {
   "cell_type": "code",
   "execution_count": null,
   "metadata": {},
   "outputs": [],
   "source": [
    "jan_field = ds.tas.sel(time='2010-01').squeeze('time')\n",
    "jan_field"
   ]
  },
  {
   "cell_type": "markdown",
   "metadata": {},
   "source": [
    "xarray plays well with all the cartopy mapping functions"
   ]
  },
  {
   "cell_type": "code",
   "execution_count": null,
   "metadata": {},
   "outputs": [],
   "source": [
    "fig = plt.figure(figsize=(15,10))       # initialize a fairly large figure\n",
    "ax = plt.axes(projection=ccrs.PlateCarree())\n",
    "ax.set_global() # show the entire globe\n",
    "ax.coastlines() # plot coastlines\n",
    "c = ax.pcolormesh(jan_field.lon,jan_field.lat,jan_field, cmap='RdYlBu_r',transform=ccrs.PlateCarree())\n",
    "ax.contour(jan_field.lon,jan_field.lat,jan_field,levels=[240,250,260,270,280,300],colors=['k'],alpha=0.2,transform=ccrs.PlateCarree(),vmin=220,vmax=310)\n",
    "ax.contour(jan_field.lon,jan_field.lat,jan_field,levels=[290],colors=['w'],transform=ccrs.PlateCarree())\n",
    "ax.set_xticks([-180,-120,-60,0,60,120,180])\n",
    "ax.set_yticks([-90,-60,-30,0,30,60,90])\n",
    "ax.set_title('January Mean')\n",
    "cax,kw = mpl.colorbar.make_axes(ax,location='bottom',pad=0.07,shrink=0.975) # add colorbar axes at bottom\n",
    "cbar=plt.colorbar(c,cax = cax,orientation='horizontal')\n",
    "cbar.set_label('Surface Temperature (K)', fontsize = 20)\n"
   ]
  },
  {
   "cell_type": "markdown",
   "metadata": {},
   "source": [
    "## Mapping seasonal mean fields using the `.groupby()` function\n",
    "\n",
    "`.groupby()` is an incredibly useful function within xarray, there's a detailed overview [here](https://docs.xarray.dev/en/stable/user-guide/groupby.html) but really this is a very flexible function. `.resample()`, `.rolling()` and `.coarsen()` are useful related functions I won't go into here but recommend you checking out. Here we will use `.groupby()` to compute seasonal mean `tas` fields, but essentially it can be used for any situation where you want to bin or cluster data in groups prior to executing a function."
   ]
  },
  {
   "cell_type": "code",
   "execution_count": null,
   "metadata": {},
   "outputs": [],
   "source": [
    "tas_seasons = ds.tas.groupby('time.season').mean() # an example of cool time functionality in xarray\n",
    "tas_seasons"
   ]
  },
  {
   "cell_type": "code",
   "execution_count": null,
   "metadata": {},
   "outputs": [],
   "source": [
    "fig, axes = plt.subplots(nrows=2, ncols=2, figsize=(25,14), subplot_kw={'projection': ccrs.PlateCarree()})\n",
    "for i, season in enumerate(('DJF', 'MAM', 'JJA', 'SON')):\n",
    "    seas_data = tas_seasons.sel(season=season) # select the season we want\n",
    "    ax=axes.flatten()[i]                       # specify the axis\n",
    "    ax.set_title(season, fontsize=20)\n",
    "    ax.set_global() # show the entire globe\n",
    "    ax.coastlines() # plot coastlines\n",
    "    c = ax.pcolormesh(seas_data.lon,seas_data.lat,seas_data, cmap='RdYlBu_r',transform=ccrs.PlateCarree(), vmin=220,vmax=310)\n",
    "    ax.contour(seas_data.lon,seas_data.lat,seas_data,levels=[240,250,260,270,280,300],colors=['k'],alpha=0.2,transform=ccrs.PlateCarree())\n",
    "    ax.contour(seas_data.lon,seas_data.lat,seas_data,levels=[290],colors=['w'],transform=ccrs.PlateCarree())\n",
    "    ax.set_xticks([-180,-120,-60,0,60,120,180])\n",
    "    ax.set_yticks([-90,-60,-30,0,30,60,90])\n",
    "    if i in (0,2):\n",
    "        ax.set_ylabel('Latitude')\n",
    "    if i in (2,3):\n",
    "        ax.set_xlabel('Longitude')\n",
    "cax = fig.add_axes([0.92, 0.14, 0.017, 0.72])\n",
    "cbar=plt.colorbar(c,cax = cax,orientation='vertical')\n",
    "cbar.set_label('Surface Temperature (K)', fontsize = 20)\n",
    "plt.show()"
   ]
  },
  {
   "cell_type": "markdown",
   "metadata": {},
   "source": [
    "## Weighted spatial means using `.weighted()`\n",
    "\n",
    "Say we want to look at a global mean vertical profile of temperature using the `tas` variable. Because the earth is spherical, data points as high latitudes describe less area than data points at low latitudes. The proper latitude ($\\phi$) weighting is:\n",
    "$$\\text{weight} = \\cos(\\phi) $$\n",
    "If we do not weight correctly, we may overreppresent high latitude areas that are cold but take up little area, decreasing the global-mean temperature. See [this example](http://xarray.pydata.org/en/stable/examples/area_weighted_temperature.html).\n",
    "\n",
    "Xarray can perform the weighting nearly automatically with the [`.weighted()` function](https://docs.xarray.dev/en/stable/generated/xarray.DataArray.weighted.html):"
   ]
  },
  {
   "cell_type": "code",
   "execution_count": null,
   "metadata": {},
   "outputs": [],
   "source": [
    "weight = np.cos(np.deg2rad(ds.ta['lat']))    # convert degrees to radians and calculate the weights using the full xarray lat object. Using the full ojbect and all its metadata is impoprtant!"
   ]
  },
  {
   "cell_type": "code",
   "execution_count": null,
   "metadata": {},
   "outputs": [],
   "source": [
    "temperature_weighted = ds['ta'].weighted(weight)                          # calculate a weighted mean object in xarray ()\n",
    "plot_data  = temperature_weighted.mean(['lat','lon','time']).transpose()  # take the mean over latitude, longitude, and time leaving only a vertical profile"
   ]
  },
  {
   "cell_type": "markdown",
   "metadata": {},
   "source": [
    "We could do this manually as well, the definition of a weighted mean is:\n",
    "$$ \\left<x\\right>_w = \\frac{\\sum w_i x_i}{\\sum w_i} = \\sum x_i \\frac{ w_i }{\\sum w_i}$$\n",
    "so we would need to calculate the following:\n",
    "$$ \\left<x\\right>_w = x_i \\frac{ w_i }{\\sum w_i} $$\n",
    "and sum over latitude. <br>\n",
    "\n",
    "One might be tempted to do the following:"
   ]
  },
  {
   "cell_type": "code",
   "execution_count": null,
   "metadata": {},
   "outputs": [],
   "source": [
    "wi_sumwi = weight/weight.sum('lat')                                                 # compute the normalised weights term above\n",
    "plot_data_1   = (ds['ta'] * wi_sumwi).sum(['lat']).mean(['lon','time']).transpose() # for latitude, we only have the sum as described above, and then a mean over lat and time to leave a vertical profile"
   ]
  },
  {
   "cell_type": "markdown",
   "metadata": {},
   "source": [
    "But this is actually incorrect as it includes weights for data points where there is no temperature values recorded (when the surface pressure is higher than the lower limit of the y-axis). If we wanted to do this manually (i.e. not using the `.weighted()` function) we would need to remove weights where temperature data does not exist. This can be done by, for example, expanding the weights array to 2 dimensions and masking out wherever no `ta` data is available. "
   ]
  },
  {
   "cell_type": "code",
   "execution_count": null,
   "metadata": {},
   "outputs": [],
   "source": [
    "weight_masked = ds['ta']*0+weight                        # note ds[\"ta\"]*0 is a mask of 0 where ta data exists and NaN where ta data is absent\n",
    "wi_sumwi_masked = weight_masked/weight_masked.sum('lat') # compute the normalised weights term above excluding regions with no data\n",
    "plot_data_2   = (ds['ta'] * wi_sumwi_masked).sum(['lat']).mean(['lon','time']).transpose() # for latitude, we only have the sum as described above, and then a mean over lat and time to leave a vertical profile"
   ]
  },
  {
   "cell_type": "markdown",
   "metadata": {},
   "source": [
    "And we can compare these options to an unweighted mean."
   ]
  },
  {
   "cell_type": "code",
   "execution_count": null,
   "metadata": {},
   "outputs": [],
   "source": [
    "plot_data_3   = ds[\"ta\"].mean(['lat','lon','time']).transpose() # simple mean (incorrect)"
   ]
  },
  {
   "cell_type": "code",
   "execution_count": null,
   "metadata": {},
   "outputs": [],
   "source": [
    "fig = plt.figure(figsize=(8, 12)) # assign a vertically tall figure\n",
    "ax  = plt.axes()                  # assign axes to the figure\n",
    "\n",
    "plot_data.plot(  ax=ax, y='plev',yscale='log',ylim=[plot_data.plev.max()  ,plot_data.plev.min()  ],linewidth=10,              color='cyan' , label='xarray .weighted() function'  ) # plot profile, log scale, width 10, color cyan,  label as xarray\n",
    "plot_data_1.plot(ax=ax, y='plev',yscale='log',ylim=[plot_data_2.plev.max(),plot_data_2.plev.min()],linestyle='--',             color='black', label='manual incorrect weighting (missing data)') # plot profile, log scale,           color black, label as method 1\n",
    "plot_data_2.plot(ax=ax, y='plev',yscale='log',ylim=[plot_data_2.plev.max(),plot_data_2.plev.min()],linestyle='--', linewidth=3 ,color='red', label='manual correct weighting') # plot profile, log scale,           color black, label as method 1\n",
    "plot_data_3.plot(ax=ax, y='plev',yscale='log',ylim=[plot_data_2.plev.max(),plot_data_2.plev.min()],                           color='black', label='unweighted mean') # plot profile, log scale,           color black, label as method 1\n",
    "ax.set_xlabel('Temperature (K)');ax.set_ylabel('Pressure (Pa)')\n",
    "ax.legend(fontsize=15) # you see the problems at the bottom from some missing data\n",
    "plt.show()"
   ]
  },
  {
   "cell_type": "markdown",
   "metadata": {},
   "source": [
    "We can also check if weighting by the length of each month makes a difference..."
   ]
  },
  {
   "cell_type": "code",
   "execution_count": null,
   "metadata": {},
   "outputs": [],
   "source": [
    "weight_time = ds['time.days_in_month'] # another example of cool time functionality\n",
    "weight_time"
   ]
  },
  {
   "cell_type": "code",
   "execution_count": null,
   "metadata": {},
   "outputs": [],
   "source": [
    "temperature_spatial_weighted = ds['ta'].weighted(weight)                        # calculate a weighted mean object in xarray ()\n",
    "temperature_spatial_weighted_mean  = temperature_spatial_weighted.mean(['lat','lon']) \n",
    "temperature_time_weighted = temperature_spatial_weighted_mean.weighted(weight_time)\n",
    "plot_data_4  = temperature_time_weighted.mean(['time']).transpose()  # take the mean over latitude, longitude, and time leaving only a vertical profile"
   ]
  },
  {
   "cell_type": "code",
   "execution_count": null,
   "metadata": {},
   "outputs": [],
   "source": [
    "(plot_data_4 - plot_data).values # comparatively very small errors, may matter in some cases though!"
   ]
  },
  {
   "cell_type": "markdown",
   "metadata": {},
   "source": [
    "## Masking using the `.where()` function\n",
    "\n",
    "The xarray [`.where()` function](https://docs.xarray.dev/en/stable/generated/xarray.where.html) is another useful one and it's use comes up in a couple of contexts. A couple that come to mind include (i) creating a mask based on some critereon, (ii) removing outliers from a dataset, and (iii) selecting a subset from your dataset based off a coordinate that is not a dimension (e.g. if you have irregular 2D latitude and longitude fields but want to subset by latitude).\n",
    "\n",
    "As a simple example here, let's just repeat our previous map plot but exclude temperature values below 290 K (white contour previously)."
   ]
  },
  {
   "cell_type": "code",
   "execution_count": null,
   "metadata": {},
   "outputs": [],
   "source": [
    "fig = plt.figure(figsize=(15,10))       # initialize a fairly large figure\n",
    "ax = plt.axes(projection=ccrs.PlateCarree())\n",
    "ax.set_global() # show the entire globe\n",
    "ax.coastlines() # plot coastlines\n",
    "\n",
    "## change is here\n",
    "c = ax.pcolormesh(jan_field.lon,jan_field.lat,jan_field.where(jan_field>290), cmap='RdYlBu_r',transform=ccrs.PlateCarree(),vmin=220,vmax=310) \n",
    "\n",
    "ax.contour(jan_field.lon,jan_field.lat,jan_field,levels=[240,250,260,270,280,300],colors=['k'],alpha=0.2,transform=ccrs.PlateCarree())\n",
    "ax.set_xticks([-180,-120,-60,0,60,120,180])\n",
    "ax.set_yticks([-90,-60,-30,0,30,60,90])\n",
    "ax.set_title('January Mean')\n",
    "cax,kw = mpl.colorbar.make_axes(ax,location='bottom',pad=0.07,shrink=0.975) # add colorbar axes at bottom\n",
    "cbar=plt.colorbar(c,cax = cax,orientation='horizontal')\n",
    "cbar.set_label('Surface Temperature (K)', fontsize = 20)\n"
   ]
  },
  {
   "cell_type": "markdown",
   "metadata": {},
   "source": [
    "## Mapping a field (where `lat` and `lon` are 2D Coordinates)\n",
    "\n",
    "**a brief interlude with another data file**\n",
    "\n",
    "You may run into circumstances where the spatial information of your data are actually 2 dimensional themselves! Many general circulation models have irregular (w.r.t latitude and longitude) grids and yet you may still want to plot maps with latitude and longtiude axes (or do other operations along these coordinates). Here's a quick example of how you can use 2 dimensional coordinate data, using some bathymetry from a regional ocean model I personally use."
   ]
  },
  {
   "cell_type": "code",
   "execution_count": null,
   "metadata": {},
   "outputs": [],
   "source": [
    "bathy = xr.open_dataset('bathy.nc')\n",
    "bathy"
   ]
  },
  {
   "cell_type": "code",
   "execution_count": null,
   "metadata": {},
   "outputs": [],
   "source": [
    "fig, (ax) = plt.subplots(1, 1, figsize=(12,10))\n",
    "# bathy shading\n",
    "c = ax.pcolormesh(-bathy.bathy, cmap='viridis_r', vmax=6000, vmin=0)\n",
    "# bathy contours\n",
    "ax.contour(-bathy.bathy, levels = [1000,2000,3000,4000,5000], colors=['white'], linewidths=0.6)\n",
    "ax.contour(-bathy.bathy, levels = [500,750], colors=['grey'], linewidths=0.6)\n",
    "\n",
    "# axis labels\n",
    "ax.set_xlabel('XC (model grid)')\n",
    "ax.set_ylabel('YC (model grid)')\n",
    "cax = fig.add_axes([0.92, 0.125, 0.02, 0.755])\n",
    "cbar=plt.colorbar(c,cax = cax,orientation='vertical')\n",
    "cbar.set_label('Bathymetry (m)', fontsize = 20)\n",
    "\n",
    "plt.show()"
   ]
  },
  {
   "cell_type": "code",
   "execution_count": null,
   "metadata": {},
   "outputs": [],
   "source": [
    "fig, (ax) = plt.subplots(1, 1, figsize=(12,10))\n",
    "\n",
    "# bathy shading\n",
    "c = ax.pcolormesh(bathy.LONC, bathy.LATC,-bathy.bathy, cmap='viridis_r', vmax=6000, vmin=0, shading='gouraud')\n",
    "# # bathy contours\n",
    "ax.contour(bathy.LONC, bathy.LATC,-bathy.bathy, levels = [1000,2000,3000,4000,5000], colors=['white'], linewidths=0.6)\n",
    "ax.contour(bathy.LONC, bathy.LATC,-bathy.bathy, levels = [500,750], colors=['grey'], linewidths=0.6)\n",
    "\n",
    "# axis labels\n",
    "ax.set_xlabel('Longitude')\n",
    "ax.set_ylabel('Latitude')\n",
    "cax = fig.add_axes([0.92, 0.125, 0.02, 0.755])\n",
    "cbar=plt.colorbar(c,cax = cax,orientation='vertical')\n",
    "cbar.set_label('Bathymetry (m)', fontsize = 20)\n",
    "\n",
    "plt.show()"
   ]
  },
  {
   "cell_type": "code",
   "execution_count": null,
   "metadata": {},
   "outputs": [],
   "source": []
  }
 ],
 "metadata": {
  "kernelspec": {
   "display_name": "Python 3",
   "language": "python",
   "name": "python3"
  },
  "language_info": {
   "codemirror_mode": {
    "name": "ipython",
    "version": 3
   },
   "file_extension": ".py",
   "mimetype": "text/x-python",
   "name": "python",
   "nbconvert_exporter": "python",
   "pygments_lexer": "ipython3",
   "version": "3.9.1"
  }
 },
 "nbformat": 4,
 "nbformat_minor": 4
}
